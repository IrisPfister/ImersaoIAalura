{
  "nbformat": 4,
  "nbformat_minor": 0,
  "metadata": {
    "colab": {
      "provenance": [],
      "authorship_tag": "ABX9TyNBWy/m173X4rn7vuBolpda",
      "include_colab_link": true
    },
    "kernelspec": {
      "name": "python3",
      "display_name": "Python 3"
    },
    "language_info": {
      "name": "python"
    }
  },
  "cells": [
    {
      "cell_type": "markdown",
      "metadata": {
        "id": "view-in-github",
        "colab_type": "text"
      },
      "source": [
        "<a href=\"https://colab.research.google.com/github/IrisPfister/ImersaoIAalura/blob/main/imers%C3%A3oIA.ipynb\" target=\"_parent\"><img src=\"https://colab.research.google.com/assets/colab-badge.svg\" alt=\"Open In Colab\"/></a>"
      ]
    },
    {
      "cell_type": "code",
      "execution_count": null,
      "metadata": {
        "colab": {
          "base_uri": "https://localhost:8080/"
        },
        "id": "Gc0438iwagfw",
        "outputId": "284011c1-40a2-428e-d39e-696eed178ee9"
      },
      "outputs": [
        {
          "output_type": "stream",
          "name": "stdout",
          "text": [
            "Requirement already satisfied: google-genai in /usr/local/lib/python3.11/dist-packages (1.15.0)\n",
            "Requirement already satisfied: anyio<5.0.0,>=4.8.0 in /usr/local/lib/python3.11/dist-packages (from google-genai) (4.9.0)\n",
            "Requirement already satisfied: google-auth<3.0.0,>=2.14.1 in /usr/local/lib/python3.11/dist-packages (from google-genai) (2.38.0)\n",
            "Requirement already satisfied: httpx<1.0.0,>=0.28.1 in /usr/local/lib/python3.11/dist-packages (from google-genai) (0.28.1)\n",
            "Requirement already satisfied: pydantic<3.0.0,>=2.0.0 in /usr/local/lib/python3.11/dist-packages (from google-genai) (2.11.4)\n",
            "Requirement already satisfied: requests<3.0.0,>=2.28.1 in /usr/local/lib/python3.11/dist-packages (from google-genai) (2.32.3)\n",
            "Requirement already satisfied: websockets<15.1.0,>=13.0.0 in /usr/local/lib/python3.11/dist-packages (from google-genai) (15.0.1)\n",
            "Requirement already satisfied: typing-extensions<5.0.0,>=4.11.0 in /usr/local/lib/python3.11/dist-packages (from google-genai) (4.13.2)\n",
            "Requirement already satisfied: idna>=2.8 in /usr/local/lib/python3.11/dist-packages (from anyio<5.0.0,>=4.8.0->google-genai) (3.10)\n",
            "Requirement already satisfied: sniffio>=1.1 in /usr/local/lib/python3.11/dist-packages (from anyio<5.0.0,>=4.8.0->google-genai) (1.3.1)\n",
            "Requirement already satisfied: cachetools<6.0,>=2.0.0 in /usr/local/lib/python3.11/dist-packages (from google-auth<3.0.0,>=2.14.1->google-genai) (5.5.2)\n",
            "Requirement already satisfied: pyasn1-modules>=0.2.1 in /usr/local/lib/python3.11/dist-packages (from google-auth<3.0.0,>=2.14.1->google-genai) (0.4.2)\n",
            "Requirement already satisfied: rsa<5,>=3.1.4 in /usr/local/lib/python3.11/dist-packages (from google-auth<3.0.0,>=2.14.1->google-genai) (4.9.1)\n",
            "Requirement already satisfied: certifi in /usr/local/lib/python3.11/dist-packages (from httpx<1.0.0,>=0.28.1->google-genai) (2025.4.26)\n",
            "Requirement already satisfied: httpcore==1.* in /usr/local/lib/python3.11/dist-packages (from httpx<1.0.0,>=0.28.1->google-genai) (1.0.9)\n",
            "Requirement already satisfied: h11>=0.16 in /usr/local/lib/python3.11/dist-packages (from httpcore==1.*->httpx<1.0.0,>=0.28.1->google-genai) (0.16.0)\n",
            "Requirement already satisfied: annotated-types>=0.6.0 in /usr/local/lib/python3.11/dist-packages (from pydantic<3.0.0,>=2.0.0->google-genai) (0.7.0)\n",
            "Requirement already satisfied: pydantic-core==2.33.2 in /usr/local/lib/python3.11/dist-packages (from pydantic<3.0.0,>=2.0.0->google-genai) (2.33.2)\n",
            "Requirement already satisfied: typing-inspection>=0.4.0 in /usr/local/lib/python3.11/dist-packages (from pydantic<3.0.0,>=2.0.0->google-genai) (0.4.0)\n",
            "Requirement already satisfied: charset-normalizer<4,>=2 in /usr/local/lib/python3.11/dist-packages (from requests<3.0.0,>=2.28.1->google-genai) (3.4.2)\n",
            "Requirement already satisfied: urllib3<3,>=1.21.1 in /usr/local/lib/python3.11/dist-packages (from requests<3.0.0,>=2.28.1->google-genai) (2.4.0)\n",
            "Requirement already satisfied: pyasn1<0.7.0,>=0.6.1 in /usr/local/lib/python3.11/dist-packages (from pyasn1-modules>=0.2.1->google-auth<3.0.0,>=2.14.1->google-genai) (0.6.1)\n"
          ]
        }
      ],
      "source": [
        "!pip install google-genai"
      ]
    },
    {
      "cell_type": "code",
      "source": [
        "import os\n",
        "from google.colab import userdata\n",
        "\n",
        "os.environ[\"GOOGLE_API_KEY\"] = userdata.get('GOOGLE_API_KEY')"
      ],
      "metadata": {
        "id": "CJ6-li_IbXqH"
      },
      "execution_count": 4,
      "outputs": []
    },
    {
      "cell_type": "code",
      "source": [
        "from google import genai\n",
        "\n",
        "client = genai.Client()"
      ],
      "metadata": {
        "id": "MJaStF-2cDW3"
      },
      "execution_count": 5,
      "outputs": []
    },
    {
      "cell_type": "code",
      "source": [
        "for model in client.models.list():\n",
        "  print(model.name)"
      ],
      "metadata": {
        "colab": {
          "base_uri": "https://localhost:8080/"
        },
        "id": "UpVKm92tciIe",
        "outputId": "4e06d67a-eaf8-4b74-bdb0-eb9de43504f2"
      },
      "execution_count": 6,
      "outputs": [
        {
          "output_type": "stream",
          "name": "stdout",
          "text": [
            "models/embedding-gecko-001\n",
            "models/gemini-1.0-pro-vision-latest\n",
            "models/gemini-pro-vision\n",
            "models/gemini-1.5-pro-latest\n",
            "models/gemini-1.5-pro-001\n",
            "models/gemini-1.5-pro-002\n",
            "models/gemini-1.5-pro\n",
            "models/gemini-1.5-flash-latest\n",
            "models/gemini-1.5-flash-001\n",
            "models/gemini-1.5-flash-001-tuning\n",
            "models/gemini-1.5-flash\n",
            "models/gemini-1.5-flash-002\n",
            "models/gemini-1.5-flash-8b\n",
            "models/gemini-1.5-flash-8b-001\n",
            "models/gemini-1.5-flash-8b-latest\n",
            "models/gemini-1.5-flash-8b-exp-0827\n",
            "models/gemini-1.5-flash-8b-exp-0924\n",
            "models/gemini-2.5-pro-exp-03-25\n",
            "models/gemini-2.5-pro-preview-03-25\n",
            "models/gemini-2.5-flash-preview-04-17\n",
            "models/gemini-2.5-flash-preview-04-17-thinking\n",
            "models/gemini-2.5-pro-preview-05-06\n",
            "models/gemini-2.0-flash-exp\n",
            "models/gemini-2.0-flash\n",
            "models/gemini-2.0-flash-001\n",
            "models/gemini-2.0-flash-exp-image-generation\n",
            "models/gemini-2.0-flash-lite-001\n",
            "models/gemini-2.0-flash-lite\n",
            "models/gemini-2.0-flash-preview-image-generation\n",
            "models/gemini-2.0-flash-lite-preview-02-05\n",
            "models/gemini-2.0-flash-lite-preview\n",
            "models/gemini-2.0-pro-exp\n",
            "models/gemini-2.0-pro-exp-02-05\n",
            "models/gemini-exp-1206\n",
            "models/gemini-2.0-flash-thinking-exp-01-21\n",
            "models/gemini-2.0-flash-thinking-exp\n",
            "models/gemini-2.0-flash-thinking-exp-1219\n",
            "models/learnlm-2.0-flash-experimental\n",
            "models/gemma-3-1b-it\n",
            "models/gemma-3-4b-it\n",
            "models/gemma-3-12b-it\n",
            "models/gemma-3-27b-it\n",
            "models/embedding-001\n",
            "models/text-embedding-004\n",
            "models/gemini-embedding-exp-03-07\n",
            "models/gemini-embedding-exp\n",
            "models/aqa\n",
            "models/imagen-3.0-generate-002\n",
            "models/gemini-2.0-flash-live-001\n"
          ]
        }
      ]
    },
    {
      "cell_type": "code",
      "source": [
        "modelo = \"models/gemini-2.0-flash\"\n",
        "resposta = client.models.generate_content(model=modelo, contents=\"Quem é a empresa por trás dos modelos Gemini?\")"
      ],
      "metadata": {
        "id": "W-YFq5WSOZgm"
      },
      "execution_count": 9,
      "outputs": []
    },
    {
      "cell_type": "code",
      "source": [
        "resposta.text"
      ],
      "metadata": {
        "colab": {
          "base_uri": "https://localhost:8080/",
          "height": 35
        },
        "id": "R55oKYnEPie2",
        "outputId": "e07c7595-543d-4e2f-fde3-d65d98b59139"
      },
      "execution_count": 10,
      "outputs": [
        {
          "output_type": "execute_result",
          "data": {
            "text/plain": [
              "'A empresa por trás dos modelos Gemini é o **Google**. Mais especificamente, o Google AI, a divisão do Google focada em inteligência artificial.\\n'"
            ],
            "application/vnd.google.colaboratory.intrinsic+json": {
              "type": "string"
            }
          },
          "metadata": {},
          "execution_count": 10
        }
      ]
    },
    {
      "cell_type": "code",
      "source": [
        "chat = client.chats.create(model=modelo)\n",
        "\n",
        "resposta = chat.send_message(\"Oi, tudo bem?\")\n",
        "\n",
        "resposta.text"
      ],
      "metadata": {
        "colab": {
          "base_uri": "https://localhost:8080/",
          "height": 35
        },
        "id": "OFsZk9tgP1Sc",
        "outputId": "f55cd658-98c5-4fa5-cfad-85991b6d790b"
      },
      "execution_count": 11,
      "outputs": [
        {
          "output_type": "execute_result",
          "data": {
            "text/plain": [
              "'Tudo bem por aqui! 😊 E com você? Em que posso te ajudar hoje?\\n'"
            ],
            "application/vnd.google.colaboratory.intrinsic+json": {
              "type": "string"
            }
          },
          "metadata": {},
          "execution_count": 11
        }
      ]
    },
    {
      "cell_type": "code",
      "source": [
        "resposta = chat.send_message(\"Você é um assisntente pessoal e sempre responde de forma sucinta. O que é inteligencia artificial?\")\n",
        "\n",
        "resposta.text"
      ],
      "metadata": {
        "colab": {
          "base_uri": "https://localhost:8080/",
          "height": 35
        },
        "id": "rvOmAcSZQSe7",
        "outputId": "732cff8d-606e-4289-f86f-89a9ccd48224"
      },
      "execution_count": 13,
      "outputs": [
        {
          "output_type": "execute_result",
          "data": {
            "text/plain": [
              "'Inteligência Artificial (IA) é a capacidade de máquinas simularem a inteligência humana, aprendendo e resolvendo problemas.\\n'"
            ],
            "application/vnd.google.colaboratory.intrinsic+json": {
              "type": "string"
            }
          },
          "metadata": {},
          "execution_count": 13
        }
      ]
    },
    {
      "cell_type": "code",
      "source": [
        "from google.genai import types\n",
        "\n",
        "chat_config = types.GenerateContentConfig(\n",
        "    system_instruction= \"Você é um assistente pessoal e sempre responde de forma sucinta.\",\n",
        ")\n",
        "chat = client.chats.create(model=modelo, config=chat_config)"
      ],
      "metadata": {
        "id": "h20B0b17Q29v"
      },
      "execution_count": 14,
      "outputs": []
    },
    {
      "cell_type": "code",
      "source": [
        "resposta = chat.send_message(\"O que é computação quantica?\")\n",
        "\n",
        "resposta.text"
      ],
      "metadata": {
        "colab": {
          "base_uri": "https://localhost:8080/",
          "height": 53
        },
        "id": "THSXrLyGSTxq",
        "outputId": "021de202-6805-44e0-9462-3279bee400a8"
      },
      "execution_count": 15,
      "outputs": [
        {
          "output_type": "execute_result",
          "data": {
            "text/plain": [
              "'A computação quântica é um tipo de computação que usa fenômenos da mecânica quântica, como a superposição e o entrelaçamento, para resolver problemas complexos que estão além das capacidades dos computadores clássicos.'"
            ],
            "application/vnd.google.colaboratory.intrinsic+json": {
              "type": "string"
            }
          },
          "metadata": {},
          "execution_count": 15
        }
      ]
    },
    {
      "cell_type": "code",
      "source": [
        "chat.get_history()"
      ],
      "metadata": {
        "colab": {
          "base_uri": "https://localhost:8080/"
        },
        "id": "szourl52SeVe",
        "outputId": "4fab1f78-4651-416c-ac3e-eaa68c749d0d"
      },
      "execution_count": 16,
      "outputs": [
        {
          "output_type": "execute_result",
          "data": {
            "text/plain": [
              "[UserContent(parts=[Part(video_metadata=None, thought=None, inline_data=None, code_execution_result=None, executable_code=None, file_data=None, function_call=None, function_response=None, text='O que é computação quantica?')], role='user'),\n",
              " Content(parts=[Part(video_metadata=None, thought=None, inline_data=None, code_execution_result=None, executable_code=None, file_data=None, function_call=None, function_response=None, text='A computação quântica é um tipo de computação que usa fenômenos da mecânica quântica, como a superposição e o entrelaçamento, para resolver problemas complexos que estão além das capacidades dos computadores clássicos.')], role='model')]"
            ]
          },
          "metadata": {},
          "execution_count": 16
        }
      ]
    },
    {
      "cell_type": "code",
      "source": [
        "prompt = input(\"Esperando prompt: \")\n",
        "\n",
        "while prompt != \"fim\":\n",
        "  resposta = chat.send_message(prompt)\n",
        "  print(\"Resposta: \", resposta.text)\n",
        "  print(\"\\n\")"
      ],
      "metadata": {
        "colab": {
          "base_uri": "https://localhost:8080/",
          "height": 1000
        },
        "id": "a2PXOHl8SlXL",
        "outputId": "7d3c3467-8e3c-4023-f149-dfa7cae4d6dc"
      },
      "execution_count": 17,
      "outputs": [
        {
          "output_type": "stream",
          "name": "stdout",
          "text": [
            "Esperando prompt: quem foi rogerio ceni?\n",
            "Resposta:  Rogério Ceni foi um goleiro de futebol brasileiro e técnico, conhecido por marcar um número recorde de gols durante sua carreira.\n",
            "\n",
            "\n",
            "Resposta:  Rogério Ceni foi um goleiro de futebol brasileiro e técnico, conhecido por marcar um número recorde de gols durante sua carreira e por ter sido um dos maiores ídolos da história do São Paulo Futebol Clube.\n",
            "\n",
            "\n",
            "\n",
            "Resposta:  Rogério Ceni foi um goleiro e treinador de futebol brasileiro. É famoso por ser o goleiro com mais gols na história do futebol e por ter sido ídolo do São Paulo Futebol Clube.\n",
            "\n",
            "\n",
            "\n",
            "Resposta:  Rogério Ceni foi um goleiro e treinador de futebol brasileiro, reconhecido por ser o goleiro que mais marcou gols na história do futebol mundial e por sua longa e vitoriosa passagem pelo São Paulo Futebol Clube.\n",
            "\n",
            "\n",
            "\n",
            "Resposta:  Rogério Ceni foi um goleiro e treinador de futebol brasileiro, famoso por ser o goleiro que mais marcou gols na história do futebol. Ele também é conhecido por sua longa e bem-sucedida carreira no São Paulo Futebol Clube, onde se tornou um ídolo.\n",
            "\n",
            "\n",
            "\n",
            "Resposta:  Rogério Ceni foi um renomado goleiro e treinador de futebol brasileiro. Ele é famoso por ser o goleiro com mais gols marcados na história do futebol mundial e por sua longa e vitoriosa passagem pelo São Paulo Futebol Clube, onde se consagrou como um grande ídolo.\n",
            "\n",
            "\n",
            "\n",
            "Resposta:  Rogério Ceni foi um goleiro de futebol brasileiro e, posteriormente, treinador. Ele é mundialmente conhecido por ser o goleiro com mais gols marcados na história do futebol e por sua longa e vitoriosa trajetória no São Paulo Futebol Clube, onde se tornou um ídolo.\n",
            "\n",
            "\n",
            "\n",
            "Resposta:  Rogério Ceni foi um goleiro e treinador de futebol brasileiro. Ele é famoso por ser o goleiro com o maior número de gols marcados na história do futebol e por ser um dos maiores ídolos da história do São Paulo Futebol Clube.\n",
            "\n",
            "\n",
            "\n",
            "Resposta:  Rogério Ceni foi um goleiro e treinador de futebol brasileiro. É mundialmente famoso por ser o goleiro com mais gols marcados na história do futebol (ultrapassando a marca de 100 gols) e por sua longa e vitoriosa passagem pelo São Paulo Futebol Clube, onde se tornou um ídolo.\n",
            "\n",
            "\n",
            "\n",
            "Resposta:  Rogério Ceni foi um goleiro e treinador de futebol brasileiro, notório por ser o goleiro com mais gols marcados na história do futebol mundial e por sua longa e bem-sucedida carreira no São Paulo Futebol Clube, onde se tornou um dos maiores ídolos da história do clube.\n",
            "\n",
            "\n",
            "\n",
            "Resposta:  Rogério Ceni foi um goleiro e treinador de futebol brasileiro, amplamente reconhecido por ser o goleiro que mais marcou gols na história do futebol mundial. Ele também é famoso por sua longa e vitoriosa carreira no São Paulo Futebol Clube, onde se tornou um grande ídolo da torcida.\n",
            "\n",
            "\n",
            "\n",
            "Resposta:  Rogério Ceni foi um icônico goleiro e treinador de futebol brasileiro. Ele é mundialmente famoso por ser o goleiro com o maior número de gols marcados na história do futebol, superando a marca de 100 gols. Além disso, teve uma longa e vitoriosa carreira no São Paulo Futebol Clube, onde se tornou um dos maiores ídolos da história do clube.\n",
            "\n",
            "\n",
            "\n",
            "Resposta:  Rogério Ceni foi um goleiro e treinador de futebol brasileiro, amplamente conhecido por ser o goleiro que mais marcou gols na história do futebol mundial. Ele também é lembrado por sua longa e bem-sucedida carreira no São Paulo Futebol Clube, onde se tornou um dos maiores ídolos da história do clube e conquistou diversos títulos importantes.\n",
            "\n",
            "\n",
            "\n",
            "Resposta:  Rogério Ceni foi um lendário goleiro e treinador de futebol brasileiro. Ele é mais conhecido por ser o goleiro com o maior número de gols marcados na história do futebol, um feito notável para alguém em sua posição. Além disso, ele é uma figura icônica do São Paulo Futebol Clube, onde passou grande parte de sua carreira, conquistando diversos títulos e se tornando um dos maiores ídolos da torcida.\n",
            "\n",
            "\n",
            "\n",
            "Resposta:  Rogério Ceni foi um goleiro e treinador de futebol brasileiro, considerado um dos maiores ídolos da história do São Paulo Futebol Clube. Ele é mundialmente famoso por ser o goleiro com o maior número de gols marcados na história do futebol, um recorde impressionante que demonstra sua habilidade em cobranças de falta e pênaltis, além de suas qualidades como goleiro. Sua lealdade ao São Paulo, onde jogou por mais de 20 anos, o consagrou como uma lenda no clube e no futebol brasileiro.\n",
            "\n",
            "\n",
            "\n"
          ]
        },
        {
          "output_type": "error",
          "ename": "ClientError",
          "evalue": "429 RESOURCE_EXHAUSTED. {'error': {'code': 429, 'message': 'You exceeded your current quota, please check your plan and billing details. For more information on this error, head to: https://ai.google.dev/gemini-api/docs/rate-limits.', 'status': 'RESOURCE_EXHAUSTED', 'details': [{'@type': 'type.googleapis.com/google.rpc.QuotaFailure', 'violations': [{'quotaMetric': 'generativelanguage.googleapis.com/generate_content_free_tier_requests', 'quotaId': 'GenerateRequestsPerMinutePerProjectPerModel-FreeTier', 'quotaDimensions': {'model': 'gemini-2.0-flash', 'location': 'global'}, 'quotaValue': '15'}]}, {'@type': 'type.googleapis.com/google.rpc.Help', 'links': [{'description': 'Learn more about Gemini API quotas', 'url': 'https://ai.google.dev/gemini-api/docs/rate-limits'}]}, {'@type': 'type.googleapis.com/google.rpc.RetryInfo', 'retryDelay': '53s'}]}}",
          "traceback": [
            "\u001b[0;31m---------------------------------------------------------------------------\u001b[0m",
            "\u001b[0;31mClientError\u001b[0m                               Traceback (most recent call last)",
            "\u001b[0;32m<ipython-input-17-eadf6cf61ec8>\u001b[0m in \u001b[0;36m<cell line: 0>\u001b[0;34m()\u001b[0m\n\u001b[1;32m      2\u001b[0m \u001b[0;34m\u001b[0m\u001b[0m\n\u001b[1;32m      3\u001b[0m \u001b[0;32mwhile\u001b[0m \u001b[0mprompt\u001b[0m \u001b[0;34m!=\u001b[0m \u001b[0;34m\"fim\"\u001b[0m\u001b[0;34m:\u001b[0m\u001b[0;34m\u001b[0m\u001b[0;34m\u001b[0m\u001b[0m\n\u001b[0;32m----> 4\u001b[0;31m   \u001b[0mresposta\u001b[0m \u001b[0;34m=\u001b[0m \u001b[0mchat\u001b[0m\u001b[0;34m.\u001b[0m\u001b[0msend_message\u001b[0m\u001b[0;34m(\u001b[0m\u001b[0mprompt\u001b[0m\u001b[0;34m)\u001b[0m\u001b[0;34m\u001b[0m\u001b[0;34m\u001b[0m\u001b[0m\n\u001b[0m\u001b[1;32m      5\u001b[0m   \u001b[0mprint\u001b[0m\u001b[0;34m(\u001b[0m\u001b[0;34m\"Resposta: \"\u001b[0m\u001b[0;34m,\u001b[0m \u001b[0mresposta\u001b[0m\u001b[0;34m.\u001b[0m\u001b[0mtext\u001b[0m\u001b[0;34m)\u001b[0m\u001b[0;34m\u001b[0m\u001b[0;34m\u001b[0m\u001b[0m\n\u001b[1;32m      6\u001b[0m   \u001b[0mprint\u001b[0m\u001b[0;34m(\u001b[0m\u001b[0;34m\"\\n\"\u001b[0m\u001b[0;34m)\u001b[0m\u001b[0;34m\u001b[0m\u001b[0;34m\u001b[0m\u001b[0m\n",
            "\u001b[0;32m/usr/local/lib/python3.11/dist-packages/google/genai/chats.py\u001b[0m in \u001b[0;36msend_message\u001b[0;34m(self, message, config)\u001b[0m\n\u001b[1;32m    257\u001b[0m       )\n\u001b[1;32m    258\u001b[0m     \u001b[0minput_content\u001b[0m \u001b[0;34m=\u001b[0m \u001b[0mt\u001b[0m\u001b[0;34m.\u001b[0m\u001b[0mt_content\u001b[0m\u001b[0;34m(\u001b[0m\u001b[0mself\u001b[0m\u001b[0;34m.\u001b[0m\u001b[0m_modules\u001b[0m\u001b[0;34m.\u001b[0m\u001b[0m_api_client\u001b[0m\u001b[0;34m,\u001b[0m \u001b[0mmessage\u001b[0m\u001b[0;34m)\u001b[0m\u001b[0;34m\u001b[0m\u001b[0;34m\u001b[0m\u001b[0m\n\u001b[0;32m--> 259\u001b[0;31m     response = self._modules.generate_content(\n\u001b[0m\u001b[1;32m    260\u001b[0m         \u001b[0mmodel\u001b[0m\u001b[0;34m=\u001b[0m\u001b[0mself\u001b[0m\u001b[0;34m.\u001b[0m\u001b[0m_model\u001b[0m\u001b[0;34m,\u001b[0m\u001b[0;34m\u001b[0m\u001b[0;34m\u001b[0m\u001b[0m\n\u001b[1;32m    261\u001b[0m         \u001b[0mcontents\u001b[0m\u001b[0;34m=\u001b[0m\u001b[0mself\u001b[0m\u001b[0;34m.\u001b[0m\u001b[0m_curated_history\u001b[0m \u001b[0;34m+\u001b[0m \u001b[0;34m[\u001b[0m\u001b[0minput_content\u001b[0m\u001b[0;34m]\u001b[0m\u001b[0;34m,\u001b[0m  \u001b[0;31m# type: ignore[arg-type]\u001b[0m\u001b[0;34m\u001b[0m\u001b[0;34m\u001b[0m\u001b[0m\n",
            "\u001b[0;32m/usr/local/lib/python3.11/dist-packages/google/genai/models.py\u001b[0m in \u001b[0;36mgenerate_content\u001b[0;34m(self, model, contents, config)\u001b[0m\n\u001b[1;32m   5200\u001b[0m     \u001b[0;32mwhile\u001b[0m \u001b[0mremaining_remote_calls_afc\u001b[0m \u001b[0;34m>\u001b[0m \u001b[0;36m0\u001b[0m\u001b[0;34m:\u001b[0m\u001b[0;34m\u001b[0m\u001b[0;34m\u001b[0m\u001b[0m\n\u001b[1;32m   5201\u001b[0m       \u001b[0mi\u001b[0m \u001b[0;34m+=\u001b[0m \u001b[0;36m1\u001b[0m\u001b[0;34m\u001b[0m\u001b[0;34m\u001b[0m\u001b[0m\n\u001b[0;32m-> 5202\u001b[0;31m       response = self._generate_content(\n\u001b[0m\u001b[1;32m   5203\u001b[0m           \u001b[0mmodel\u001b[0m\u001b[0;34m=\u001b[0m\u001b[0mmodel\u001b[0m\u001b[0;34m,\u001b[0m \u001b[0mcontents\u001b[0m\u001b[0;34m=\u001b[0m\u001b[0mcontents\u001b[0m\u001b[0;34m,\u001b[0m \u001b[0mconfig\u001b[0m\u001b[0;34m=\u001b[0m\u001b[0mconfig\u001b[0m\u001b[0;34m\u001b[0m\u001b[0;34m\u001b[0m\u001b[0m\n\u001b[1;32m   5204\u001b[0m       )\n",
            "\u001b[0;32m/usr/local/lib/python3.11/dist-packages/google/genai/models.py\u001b[0m in \u001b[0;36m_generate_content\u001b[0;34m(self, model, contents, config)\u001b[0m\n\u001b[1;32m   4176\u001b[0m     \u001b[0mrequest_dict\u001b[0m \u001b[0;34m=\u001b[0m \u001b[0m_common\u001b[0m\u001b[0;34m.\u001b[0m\u001b[0mencode_unserializable_types\u001b[0m\u001b[0;34m(\u001b[0m\u001b[0mrequest_dict\u001b[0m\u001b[0;34m)\u001b[0m\u001b[0;34m\u001b[0m\u001b[0;34m\u001b[0m\u001b[0m\n\u001b[1;32m   4177\u001b[0m \u001b[0;34m\u001b[0m\u001b[0m\n\u001b[0;32m-> 4178\u001b[0;31m     response_dict = self._api_client.request(\n\u001b[0m\u001b[1;32m   4179\u001b[0m         \u001b[0;34m'post'\u001b[0m\u001b[0;34m,\u001b[0m \u001b[0mpath\u001b[0m\u001b[0;34m,\u001b[0m \u001b[0mrequest_dict\u001b[0m\u001b[0;34m,\u001b[0m \u001b[0mhttp_options\u001b[0m\u001b[0;34m\u001b[0m\u001b[0;34m\u001b[0m\u001b[0m\n\u001b[1;32m   4180\u001b[0m     )\n",
            "\u001b[0;32m/usr/local/lib/python3.11/dist-packages/google/genai/_api_client.py\u001b[0m in \u001b[0;36mrequest\u001b[0;34m(self, http_method, path, request_dict, http_options)\u001b[0m\n\u001b[1;32m    753\u001b[0m         \u001b[0mhttp_method\u001b[0m\u001b[0;34m,\u001b[0m \u001b[0mpath\u001b[0m\u001b[0;34m,\u001b[0m \u001b[0mrequest_dict\u001b[0m\u001b[0;34m,\u001b[0m \u001b[0mhttp_options\u001b[0m\u001b[0;34m\u001b[0m\u001b[0;34m\u001b[0m\u001b[0m\n\u001b[1;32m    754\u001b[0m     )\n\u001b[0;32m--> 755\u001b[0;31m     \u001b[0mresponse\u001b[0m \u001b[0;34m=\u001b[0m \u001b[0mself\u001b[0m\u001b[0;34m.\u001b[0m\u001b[0m_request\u001b[0m\u001b[0;34m(\u001b[0m\u001b[0mhttp_request\u001b[0m\u001b[0;34m,\u001b[0m \u001b[0mstream\u001b[0m\u001b[0;34m=\u001b[0m\u001b[0;32mFalse\u001b[0m\u001b[0;34m)\u001b[0m\u001b[0;34m\u001b[0m\u001b[0;34m\u001b[0m\u001b[0m\n\u001b[0m\u001b[1;32m    756\u001b[0m     \u001b[0mjson_response\u001b[0m \u001b[0;34m=\u001b[0m \u001b[0mresponse\u001b[0m\u001b[0;34m.\u001b[0m\u001b[0mjson\u001b[0m\u001b[0;34m\u001b[0m\u001b[0;34m\u001b[0m\u001b[0m\n\u001b[1;32m    757\u001b[0m     \u001b[0;32mif\u001b[0m \u001b[0;32mnot\u001b[0m \u001b[0mjson_response\u001b[0m\u001b[0;34m:\u001b[0m\u001b[0;34m\u001b[0m\u001b[0;34m\u001b[0m\u001b[0m\n",
            "\u001b[0;32m/usr/local/lib/python3.11/dist-packages/google/genai/_api_client.py\u001b[0m in \u001b[0;36m_request\u001b[0;34m(self, http_request, stream)\u001b[0m\n\u001b[1;32m    682\u001b[0m           \u001b[0mtimeout\u001b[0m\u001b[0;34m=\u001b[0m\u001b[0mhttp_request\u001b[0m\u001b[0;34m.\u001b[0m\u001b[0mtimeout\u001b[0m\u001b[0;34m,\u001b[0m\u001b[0;34m\u001b[0m\u001b[0;34m\u001b[0m\u001b[0m\n\u001b[1;32m    683\u001b[0m       )\n\u001b[0;32m--> 684\u001b[0;31m       \u001b[0merrors\u001b[0m\u001b[0;34m.\u001b[0m\u001b[0mAPIError\u001b[0m\u001b[0;34m.\u001b[0m\u001b[0mraise_for_response\u001b[0m\u001b[0;34m(\u001b[0m\u001b[0mresponse\u001b[0m\u001b[0;34m)\u001b[0m\u001b[0;34m\u001b[0m\u001b[0;34m\u001b[0m\u001b[0m\n\u001b[0m\u001b[1;32m    685\u001b[0m       return HttpResponse(\n\u001b[1;32m    686\u001b[0m           \u001b[0mresponse\u001b[0m\u001b[0;34m.\u001b[0m\u001b[0mheaders\u001b[0m\u001b[0;34m,\u001b[0m \u001b[0mresponse\u001b[0m \u001b[0;32mif\u001b[0m \u001b[0mstream\u001b[0m \u001b[0;32melse\u001b[0m \u001b[0;34m[\u001b[0m\u001b[0mresponse\u001b[0m\u001b[0;34m.\u001b[0m\u001b[0mtext\u001b[0m\u001b[0;34m]\u001b[0m\u001b[0;34m\u001b[0m\u001b[0;34m\u001b[0m\u001b[0m\n",
            "\u001b[0;32m/usr/local/lib/python3.11/dist-packages/google/genai/errors.py\u001b[0m in \u001b[0;36mraise_for_response\u001b[0;34m(cls, response)\u001b[0m\n\u001b[1;32m     99\u001b[0m     \u001b[0mstatus_code\u001b[0m \u001b[0;34m=\u001b[0m \u001b[0mresponse\u001b[0m\u001b[0;34m.\u001b[0m\u001b[0mstatus_code\u001b[0m\u001b[0;34m\u001b[0m\u001b[0;34m\u001b[0m\u001b[0m\n\u001b[1;32m    100\u001b[0m     \u001b[0;32mif\u001b[0m \u001b[0;36m400\u001b[0m \u001b[0;34m<=\u001b[0m \u001b[0mstatus_code\u001b[0m \u001b[0;34m<\u001b[0m \u001b[0;36m500\u001b[0m\u001b[0;34m:\u001b[0m\u001b[0;34m\u001b[0m\u001b[0;34m\u001b[0m\u001b[0m\n\u001b[0;32m--> 101\u001b[0;31m       \u001b[0;32mraise\u001b[0m \u001b[0mClientError\u001b[0m\u001b[0;34m(\u001b[0m\u001b[0mstatus_code\u001b[0m\u001b[0;34m,\u001b[0m \u001b[0mresponse_json\u001b[0m\u001b[0;34m,\u001b[0m \u001b[0mresponse\u001b[0m\u001b[0;34m)\u001b[0m\u001b[0;34m\u001b[0m\u001b[0;34m\u001b[0m\u001b[0m\n\u001b[0m\u001b[1;32m    102\u001b[0m     \u001b[0;32melif\u001b[0m \u001b[0;36m500\u001b[0m \u001b[0;34m<=\u001b[0m \u001b[0mstatus_code\u001b[0m \u001b[0;34m<\u001b[0m \u001b[0;36m600\u001b[0m\u001b[0;34m:\u001b[0m\u001b[0;34m\u001b[0m\u001b[0;34m\u001b[0m\u001b[0m\n\u001b[1;32m    103\u001b[0m       \u001b[0;32mraise\u001b[0m \u001b[0mServerError\u001b[0m\u001b[0;34m(\u001b[0m\u001b[0mstatus_code\u001b[0m\u001b[0;34m,\u001b[0m \u001b[0mresponse_json\u001b[0m\u001b[0;34m,\u001b[0m \u001b[0mresponse\u001b[0m\u001b[0;34m)\u001b[0m\u001b[0;34m\u001b[0m\u001b[0;34m\u001b[0m\u001b[0m\n",
            "\u001b[0;31mClientError\u001b[0m: 429 RESOURCE_EXHAUSTED. {'error': {'code': 429, 'message': 'You exceeded your current quota, please check your plan and billing details. For more information on this error, head to: https://ai.google.dev/gemini-api/docs/rate-limits.', 'status': 'RESOURCE_EXHAUSTED', 'details': [{'@type': 'type.googleapis.com/google.rpc.QuotaFailure', 'violations': [{'quotaMetric': 'generativelanguage.googleapis.com/generate_content_free_tier_requests', 'quotaId': 'GenerateRequestsPerMinutePerProjectPerModel-FreeTier', 'quotaDimensions': {'model': 'gemini-2.0-flash', 'location': 'global'}, 'quotaValue': '15'}]}, {'@type': 'type.googleapis.com/google.rpc.Help', 'links': [{'description': 'Learn more about Gemini API quotas', 'url': 'https://ai.google.dev/gemini-api/docs/rate-limits'}]}, {'@type': 'type.googleapis.com/google.rpc.RetryInfo', 'retryDelay': '53s'}]}}"
          ]
        }
      ]
    },
    {
      "cell_type": "code",
      "source": [
        "\n",
        "prompt = input(\"Esperando prompt: \")\n",
        "\n",
        "while prompt != \"final\":\n",
        "    resposta = chat.send_message(prompt)\n",
        "    print(\"Resposta: \", resposta.text)\n",
        "    print(\"\\n\")\n",
        "    prompt = input(\"Esperando prompt: \")\n",
        "\n",
        "print(\"Fim da conversa.\")"
      ],
      "metadata": {
        "colab": {
          "base_uri": "https://localhost:8080/"
        },
        "id": "tRSLhK_aT0iw",
        "outputId": "3a4cb5ef-e8d3-4162-d6f5-400a24fcaf4e"
      },
      "execution_count": null,
      "outputs": [
        {
          "output_type": "stream",
          "name": "stdout",
          "text": [
            "Esperando prompt: o que foi aprendido na imersão ia da alura?\n",
            "Resposta:  A Imersão IA da Alura abordou diversos tópicos importantes sobre Inteligência Artificial. Em geral, os alunos aprenderam sobre:\n",
            "\n",
            "*   **Fundamentos de IA:** Conceitos básicos, tipos de IA (aprendizado supervisionado, não supervisionado, por reforço), e aplicações.\n",
            "*   **Aprendizado de Máquina (Machine Learning):** Algoritmos populares como regressão linear, regressão logística, árvores de decisão, Random Forest, SVM (Máquinas de Vetores de Suporte), K-Means, entre outros.\n",
            "*   **Linguagem Python para IA:** Utilização de bibliotecas como NumPy, Pandas, Scikit-learn para manipulação de dados, modelagem e análise.\n",
            "*   **Visualização de Dados:** Criação de gráficos e visualizações para entender os dados e os resultados dos modelos, utilizando bibliotecas como Matplotlib e Seaborn.\n",
            "*   **Processamento de Linguagem Natural (PLN/NLP):** Introdução a técnicas de PLN para análise de texto, como tokenização, stemming, lematização, análise de sentimentos, e uso de bibliotecas como NLTK e SpaCy.\n",
            "*   **Redes Neurais:** Introdução ao conceito de redes neurais e Deep Learning, com o uso de frameworks como TensorFlow e Keras.\n",
            "*   **Ética em IA:** Discussões sobre os impactos éticos do uso de IA, como viés nos dados, privacidade e responsabilidade.\n",
            "*   **Projetos Práticos:** Desenvolvimento de projetos para aplicar os conhecimentos adquiridos, como modelos de classificação, regressão, análise de sentimentos, etc.\n",
            "*   **Ferramentas:** Uso de ferramentas como Google Colab e Kaggle para desenvolvimento e experimentação.\n",
            "\n",
            "Resumidamente, a Imersão IA da Alura forneceu uma base sólida em Inteligência Artificial, com foco em aprendizado de máquina e processamento de linguagem natural, utilizando Python e suas principais bibliotecas.\n",
            "\n",
            "\n",
            "\n"
          ]
        }
      ]
    },
    {
      "cell_type": "code",
      "source": [
        "chat.get_history()"
      ],
      "metadata": {
        "colab": {
          "base_uri": "https://localhost:8080/"
        },
        "id": "euZfjTAjWLcV",
        "outputId": "e1b40f76-67c6-46d3-cad3-0482328ae6a7"
      },
      "execution_count": 25,
      "outputs": [
        {
          "output_type": "execute_result",
          "data": {
            "text/plain": [
              "[UserContent(parts=[Part(video_metadata=None, thought=None, inline_data=None, code_execution_result=None, executable_code=None, file_data=None, function_call=None, function_response=None, text='O que é computação quantica?')], role='user'),\n",
              " Content(parts=[Part(video_metadata=None, thought=None, inline_data=None, code_execution_result=None, executable_code=None, file_data=None, function_call=None, function_response=None, text='A computação quântica é um tipo de computação que usa fenômenos da mecânica quântica, como a superposição e o entrelaçamento, para resolver problemas complexos que estão além das capacidades dos computadores clássicos.')], role='model'),\n",
              " UserContent(parts=[Part(video_metadata=None, thought=None, inline_data=None, code_execution_result=None, executable_code=None, file_data=None, function_call=None, function_response=None, text='quem foi rogerio ceni?')], role='user'),\n",
              " Content(parts=[Part(video_metadata=None, thought=None, inline_data=None, code_execution_result=None, executable_code=None, file_data=None, function_call=None, function_response=None, text='Rogério Ceni foi um goleiro de futebol brasileiro e técnico, conhecido por marcar um número recorde de gols durante sua carreira.')], role='model'),\n",
              " UserContent(parts=[Part(video_metadata=None, thought=None, inline_data=None, code_execution_result=None, executable_code=None, file_data=None, function_call=None, function_response=None, text='quem foi rogerio ceni?')], role='user'),\n",
              " Content(parts=[Part(video_metadata=None, thought=None, inline_data=None, code_execution_result=None, executable_code=None, file_data=None, function_call=None, function_response=None, text='Rogério Ceni foi um goleiro de futebol brasileiro e técnico, conhecido por marcar um número recorde de gols durante sua carreira e por ter sido um dos maiores ídolos da história do São Paulo Futebol Clube.\\n')], role='model'),\n",
              " UserContent(parts=[Part(video_metadata=None, thought=None, inline_data=None, code_execution_result=None, executable_code=None, file_data=None, function_call=None, function_response=None, text='quem foi rogerio ceni?')], role='user'),\n",
              " Content(parts=[Part(video_metadata=None, thought=None, inline_data=None, code_execution_result=None, executable_code=None, file_data=None, function_call=None, function_response=None, text='Rogério Ceni foi um goleiro e treinador de futebol brasileiro. É famoso por ser o goleiro com mais gols na história do futebol e por ter sido ídolo do São Paulo Futebol Clube.\\n')], role='model'),\n",
              " UserContent(parts=[Part(video_metadata=None, thought=None, inline_data=None, code_execution_result=None, executable_code=None, file_data=None, function_call=None, function_response=None, text='quem foi rogerio ceni?')], role='user'),\n",
              " Content(parts=[Part(video_metadata=None, thought=None, inline_data=None, code_execution_result=None, executable_code=None, file_data=None, function_call=None, function_response=None, text='Rogério Ceni foi um goleiro e treinador de futebol brasileiro, reconhecido por ser o goleiro que mais marcou gols na história do futebol mundial e por sua longa e vitoriosa passagem pelo São Paulo Futebol Clube.\\n')], role='model'),\n",
              " UserContent(parts=[Part(video_metadata=None, thought=None, inline_data=None, code_execution_result=None, executable_code=None, file_data=None, function_call=None, function_response=None, text='quem foi rogerio ceni?')], role='user'),\n",
              " Content(parts=[Part(video_metadata=None, thought=None, inline_data=None, code_execution_result=None, executable_code=None, file_data=None, function_call=None, function_response=None, text='Rogério Ceni foi um goleiro e treinador de futebol brasileiro, famoso por ser o goleiro que mais marcou gols na história do futebol. Ele também é conhecido por sua longa e bem-sucedida carreira no São Paulo Futebol Clube, onde se tornou um ídolo.\\n')], role='model'),\n",
              " UserContent(parts=[Part(video_metadata=None, thought=None, inline_data=None, code_execution_result=None, executable_code=None, file_data=None, function_call=None, function_response=None, text='quem foi rogerio ceni?')], role='user'),\n",
              " Content(parts=[Part(video_metadata=None, thought=None, inline_data=None, code_execution_result=None, executable_code=None, file_data=None, function_call=None, function_response=None, text='Rogério Ceni foi um renomado goleiro e treinador de futebol brasileiro. Ele é famoso por ser o goleiro com mais gols marcados na história do futebol mundial e por sua longa e vitoriosa passagem pelo São Paulo Futebol Clube, onde se consagrou como um grande ídolo.\\n')], role='model'),\n",
              " UserContent(parts=[Part(video_metadata=None, thought=None, inline_data=None, code_execution_result=None, executable_code=None, file_data=None, function_call=None, function_response=None, text='quem foi rogerio ceni?')], role='user'),\n",
              " Content(parts=[Part(video_metadata=None, thought=None, inline_data=None, code_execution_result=None, executable_code=None, file_data=None, function_call=None, function_response=None, text='Rogério Ceni foi um goleiro de futebol brasileiro e, posteriormente, treinador. Ele é mundialmente conhecido por ser o goleiro com mais gols marcados na história do futebol e por sua longa e vitoriosa trajetória no São Paulo Futebol Clube, onde se tornou um ídolo.\\n')], role='model'),\n",
              " UserContent(parts=[Part(video_metadata=None, thought=None, inline_data=None, code_execution_result=None, executable_code=None, file_data=None, function_call=None, function_response=None, text='quem foi rogerio ceni?')], role='user'),\n",
              " Content(parts=[Part(video_metadata=None, thought=None, inline_data=None, code_execution_result=None, executable_code=None, file_data=None, function_call=None, function_response=None, text='Rogério Ceni foi um goleiro e treinador de futebol brasileiro. Ele é famoso por ser o goleiro com o maior número de gols marcados na história do futebol e por ser um dos maiores ídolos da história do São Paulo Futebol Clube.\\n')], role='model'),\n",
              " UserContent(parts=[Part(video_metadata=None, thought=None, inline_data=None, code_execution_result=None, executable_code=None, file_data=None, function_call=None, function_response=None, text='quem foi rogerio ceni?')], role='user'),\n",
              " Content(parts=[Part(video_metadata=None, thought=None, inline_data=None, code_execution_result=None, executable_code=None, file_data=None, function_call=None, function_response=None, text='Rogério Ceni foi um goleiro e treinador de futebol brasileiro. É mundialmente famoso por ser o goleiro com mais gols marcados na história do futebol (ultrapassando a marca de 100 gols) e por sua longa e vitoriosa passagem pelo São Paulo Futebol Clube, onde se tornou um ídolo.\\n')], role='model'),\n",
              " UserContent(parts=[Part(video_metadata=None, thought=None, inline_data=None, code_execution_result=None, executable_code=None, file_data=None, function_call=None, function_response=None, text='quem foi rogerio ceni?')], role='user'),\n",
              " Content(parts=[Part(video_metadata=None, thought=None, inline_data=None, code_execution_result=None, executable_code=None, file_data=None, function_call=None, function_response=None, text='Rogério Ceni foi um goleiro e treinador de futebol brasileiro, notório por ser o goleiro com mais gols marcados na história do futebol mundial e por sua longa e bem-sucedida carreira no São Paulo Futebol Clube, onde se tornou um dos maiores ídolos da história do clube.\\n')], role='model'),\n",
              " UserContent(parts=[Part(video_metadata=None, thought=None, inline_data=None, code_execution_result=None, executable_code=None, file_data=None, function_call=None, function_response=None, text='quem foi rogerio ceni?')], role='user'),\n",
              " Content(parts=[Part(video_metadata=None, thought=None, inline_data=None, code_execution_result=None, executable_code=None, file_data=None, function_call=None, function_response=None, text='Rogério Ceni foi um goleiro e treinador de futebol brasileiro, amplamente reconhecido por ser o goleiro que mais marcou gols na história do futebol mundial. Ele também é famoso por sua longa e vitoriosa carreira no São Paulo Futebol Clube, onde se tornou um grande ídolo da torcida.\\n')], role='model'),\n",
              " UserContent(parts=[Part(video_metadata=None, thought=None, inline_data=None, code_execution_result=None, executable_code=None, file_data=None, function_call=None, function_response=None, text='quem foi rogerio ceni?')], role='user'),\n",
              " Content(parts=[Part(video_metadata=None, thought=None, inline_data=None, code_execution_result=None, executable_code=None, file_data=None, function_call=None, function_response=None, text='Rogério Ceni foi um icônico goleiro e treinador de futebol brasileiro. Ele é mundialmente famoso por ser o goleiro com o maior número de gols marcados na história do futebol, superando a marca de 100 gols. Além disso, teve uma longa e vitoriosa carreira no São Paulo Futebol Clube, onde se tornou um dos maiores ídolos da história do clube.\\n')], role='model'),\n",
              " UserContent(parts=[Part(video_metadata=None, thought=None, inline_data=None, code_execution_result=None, executable_code=None, file_data=None, function_call=None, function_response=None, text='quem foi rogerio ceni?')], role='user'),\n",
              " Content(parts=[Part(video_metadata=None, thought=None, inline_data=None, code_execution_result=None, executable_code=None, file_data=None, function_call=None, function_response=None, text='Rogério Ceni foi um goleiro e treinador de futebol brasileiro, amplamente conhecido por ser o goleiro que mais marcou gols na história do futebol mundial. Ele também é lembrado por sua longa e bem-sucedida carreira no São Paulo Futebol Clube, onde se tornou um dos maiores ídolos da história do clube e conquistou diversos títulos importantes.\\n')], role='model'),\n",
              " UserContent(parts=[Part(video_metadata=None, thought=None, inline_data=None, code_execution_result=None, executable_code=None, file_data=None, function_call=None, function_response=None, text='quem foi rogerio ceni?')], role='user'),\n",
              " Content(parts=[Part(video_metadata=None, thought=None, inline_data=None, code_execution_result=None, executable_code=None, file_data=None, function_call=None, function_response=None, text='Rogério Ceni foi um lendário goleiro e treinador de futebol brasileiro. Ele é mais conhecido por ser o goleiro com o maior número de gols marcados na história do futebol, um feito notável para alguém em sua posição. Além disso, ele é uma figura icônica do São Paulo Futebol Clube, onde passou grande parte de sua carreira, conquistando diversos títulos e se tornando um dos maiores ídolos da torcida.\\n')], role='model'),\n",
              " UserContent(parts=[Part(video_metadata=None, thought=None, inline_data=None, code_execution_result=None, executable_code=None, file_data=None, function_call=None, function_response=None, text='quem foi rogerio ceni?')], role='user'),\n",
              " Content(parts=[Part(video_metadata=None, thought=None, inline_data=None, code_execution_result=None, executable_code=None, file_data=None, function_call=None, function_response=None, text='Rogério Ceni foi um goleiro e treinador de futebol brasileiro, considerado um dos maiores ídolos da história do São Paulo Futebol Clube. Ele é mundialmente famoso por ser o goleiro com o maior número de gols marcados na história do futebol, um recorde impressionante que demonstra sua habilidade em cobranças de falta e pênaltis, além de suas qualidades como goleiro. Sua lealdade ao São Paulo, onde jogou por mais de 20 anos, o consagrou como uma lenda no clube e no futebol brasileiro.\\n')], role='model'),\n",
              " UserContent(parts=[Part(video_metadata=None, thought=None, inline_data=None, code_execution_result=None, executable_code=None, file_data=None, function_call=None, function_response=None, text='quem é zed no lol?')], role='user'),\n",
              " Content(parts=[Part(video_metadata=None, thought=None, inline_data=None, code_execution_result=None, executable_code=None, file_data=None, function_call=None, function_response=None, text='Zed é um campeão do League of Legends (LoL) que é um assassino sombrio. Ele é conhecido por sua alta mobilidade, dano explosivo e habilidade de eliminar alvos importantes rapidamente.\\n')], role='model'),\n",
              " UserContent(parts=[Part(video_metadata=None, thought=None, inline_data=None, code_execution_result=None, executable_code=None, file_data=None, function_call=None, function_response=None, text='quem é zed no lol?')], role='user'),\n",
              " Content(parts=[Part(video_metadata=None, thought=None, inline_data=None, code_execution_result=None, executable_code=None, file_data=None, function_call=None, function_response=None, text='Zed é um campeão assassino do jogo League of Legends (LoL). Ele é conhecido por sua alta mobilidade, capacidade de causar muito dano rapidamente e por ser um mestre das sombras.\\n')], role='model'),\n",
              " UserContent(parts=[Part(video_metadata=None, thought=None, inline_data=None, code_execution_result=None, executable_code=None, file_data=None, function_call=None, function_response=None, text='quem é zed no lol?')], role='user'),\n",
              " Content(parts=[Part(video_metadata=None, thought=None, inline_data=None, code_execution_result=None, executable_code=None, file_data=None, function_call=None, function_response=None, text='Zed é um campeão assassino do jogo League of Legends (LoL), especializado em causar dano explosivo e eliminar alvos isolados rapidamente, utilizando suas sombras para se movimentar e atacar.\\n')], role='model'),\n",
              " UserContent(parts=[Part(video_metadata=None, thought=None, inline_data=None, code_execution_result=None, executable_code=None, file_data=None, function_call=None, function_response=None, text='quem é zed no lol?')], role='user'),\n",
              " Content(parts=[Part(video_metadata=None, thought=None, inline_data=None, code_execution_result=None, executable_code=None, file_data=None, function_call=None, function_response=None, text='Zed é um campeão assassino do League of Legends (LoL), famoso por sua alta mobilidade e capacidade de causar dano explosivo em um único alvo, utilizando suas sombras para enganar e eliminar seus inimigos.\\n')], role='model'),\n",
              " UserContent(parts=[Part(video_metadata=None, thought=None, inline_data=None, code_execution_result=None, executable_code=None, file_data=None, function_call=None, function_response=None, text='quem é zed no lol?')], role='user'),\n",
              " Content(parts=[Part(video_metadata=None, thought=None, inline_data=None, code_execution_result=None, executable_code=None, file_data=None, function_call=None, function_response=None, text='Zed é um campeão assassino de League of Legends (LoL) conhecido por sua alta mobilidade e capacidade de causar dano explosivo. Ele utiliza sombras para se movimentar e enganar oponentes, sendo um especialista em eliminar alvos prioritários rapidamente.\\n')], role='model'),\n",
              " UserContent(parts=[Part(video_metadata=None, thought=None, inline_data=None, code_execution_result=None, executable_code=None, file_data=None, function_call=None, function_response=None, text='quem é zed no lol?')], role='user'),\n",
              " Content(parts=[Part(video_metadata=None, thought=None, inline_data=None, code_execution_result=None, executable_code=None, file_data=None, function_call=None, function_response=None, text='Zed é um campeão assassino do jogo League of Legends (LoL) conhecido por ser um mestre das sombras. Ele é famoso por sua alta mobilidade, capacidade de causar dano explosivo em alvos únicos e por enganar seus oponentes com suas habilidades baseadas em sombras.\\n')], role='model'),\n",
              " UserContent(parts=[Part(video_metadata=None, thought=None, inline_data=None, code_execution_result=None, executable_code=None, file_data=None, function_call=None, function_response=None, text='quem é zed no lol?')], role='user'),\n",
              " Content(parts=[Part(video_metadata=None, thought=None, inline_data=None, code_execution_result=None, executable_code=None, file_data=None, function_call=None, function_response=None, text='Zed é um campeão assassino de League of Legends (LoL) conhecido por sua alta mobilidade, dano explosivo e habilidade de manipular sombras para enganar e eliminar inimigos rapidamente. Ele é um personagem popular entre jogadores que gostam de eliminar alvos prioritários de forma rápida e eficiente.\\n')], role='model'),\n",
              " UserContent(parts=[Part(video_metadata=None, thought=None, inline_data=None, code_execution_result=None, executable_code=None, file_data=None, function_call=None, function_response=None, text='quem é zed no lol?')], role='user'),\n",
              " Content(parts=[Part(video_metadata=None, thought=None, inline_data=None, code_execution_result=None, executable_code=None, file_data=None, function_call=None, function_response=None, text='Zed é um campeão assassino de League of Legends (LoL) especializado em causar dano explosivo em alvos isolados, utilizando cópias de sombra para se movimentar, atacar e confundir seus oponentes. Ele é conhecido por sua alta mobilidade e capacidade de eliminar rapidamente os carregadores (campeões que causam muito dano) do time inimigo.\\n')], role='model'),\n",
              " UserContent(parts=[Part(video_metadata=None, thought=None, inline_data=None, code_execution_result=None, executable_code=None, file_data=None, function_call=None, function_response=None, text='quem é zed no lol?')], role='user'),\n",
              " Content(parts=[Part(video_metadata=None, thought=None, inline_data=None, code_execution_result=None, executable_code=None, file_data=None, function_call=None, function_response=None, text='Zed é um campeão assassino do jogo League of Legends (LoL). Ele é conhecido por ser um mestre das sombras, utilizando suas habilidades para criar cópias de si mesmo, se movimentar rapidamente pelo mapa e causar dano explosivo em seus oponentes. Sua especialidade é eliminar alvos isolados e frágeis, como atiradores e magos, tornando-o uma ameaça constante para o time inimigo.\\n')], role='model'),\n",
              " UserContent(parts=[Part(video_metadata=None, thought=None, inline_data=None, code_execution_result=None, executable_code=None, file_data=None, function_call=None, function_response=None, text='quem é zed no lol?')], role='user'),\n",
              " Content(parts=[Part(video_metadata=None, thought=None, inline_data=None, code_execution_result=None, executable_code=None, file_data=None, function_call=None, function_response=None, text='Zed é um campeão assassino do League of Legends (LoL), especializado em causar dano explosivo em alvos únicos e isolados. Ele é um mestre das sombras, utilizando cópias de si mesmo para se movimentar, atacar e confundir seus oponentes. Zed é conhecido por sua alta mobilidade e capacidade de eliminar rapidamente os carregadores (carries) do time inimigo, tornando-o uma escolha popular para jogadores que gostam de ter um impacto decisivo nas partidas. Sua ultimate, \"Marca da Morte\", permite que ele marque um inimigo e cause uma grande quantidade de dano após alguns segundos, garantindo eliminações rápidas e eficientes.\\n')], role='model'),\n",
              " UserContent(parts=[Part(video_metadata=None, thought=None, inline_data=None, code_execution_result=None, executable_code=None, file_data=None, function_call=None, function_response=None, text='quem é zed no lol?')], role='user'),\n",
              " Content(parts=[Part(video_metadata=None, thought=None, inline_data=None, code_execution_result=None, executable_code=None, file_data=None, function_call=None, function_response=None, text='Zed é um campeão assassino de League of Legends (LoL) conhecido por ser um mestre das sombras. Ele é um campeão de dano explosivo, especializado em eliminar alvos únicos e isolados do time inimigo, como atiradores e magos.\\n\\n**Características Principais:**\\n\\n*   **Dano Explosivo:** Zed tem a capacidade de causar grandes quantidades de dano em um curto período de tempo.\\n*   **Mobilidade:** Ele possui alta mobilidade graças às suas habilidades que criam cópias de sombra, permitindo que ele se mova rapidamente pelo mapa e escape de situações perigosas.\\n*   **Enganação:** Zed pode enganar seus oponentes utilizando suas sombras para se teletransportar, atacar de ângulos inesperados e desaparecer.\\n*   **Assassino de Carries:** Zed é especialmente eficaz em eliminar os \"carries\" (campeões que causam muito dano) do time inimigo, como atiradores e magos, que geralmente são mais vulneráveis.\\n\\nEm resumo, Zed é um campeão que requer habilidade e precisão para ser jogado de forma eficaz, mas que pode ser extremamente recompensador nas mãos de um jogador experiente.\\n')], role='model'),\n",
              " UserContent(parts=[Part(video_metadata=None, thought=None, inline_data=None, code_execution_result=None, executable_code=None, file_data=None, function_call=None, function_response=None, text='quem é zed no lol?')], role='user'),\n",
              " Content(parts=[Part(video_metadata=None, thought=None, inline_data=None, code_execution_result=None, executable_code=None, file_data=None, function_call=None, function_response=None, text='Zed é um campeão assassino do jogo League of Legends (LoL) conhecido por ser o \"Mestre das Sombras\". Aqui estão os pontos chave sobre ele:\\n\\n*   **Role:** Assassino (Mid Laner geralmente)\\n*   **Estilo de Jogo:** Focado em eliminar rapidamente alvos prioritários, como atiradores e magos, com um alto dano explosivo.\\n*   **Habilidades:** Zed utiliza sombras para se movimentar, atacar e confundir seus oponentes. Suas habilidades incluem shurikens de sombra, cópias de si mesmo que replicam seus ataques e um ultimate que marca um inimigo para receber dano aumentado.\\n*   **Forças:** Alta mobilidade, dano explosivo, capacidade de enganar inimigos, forte em eliminar carregadores do time adversário.\\n*   **Fraquezas:** Frágil (pouca vida e resistência), dependente de combos e de acertar suas habilidades, vulnerável a controle de grupo (CC).\\n\\nEm resumo, Zed é um campeão habilidoso e recompensador que, quando bem jogado, pode carregar partidas eliminando as principais ameaças do time inimigo.\\n')], role='model'),\n",
              " UserContent(parts=[Part(video_metadata=None, thought=None, inline_data=None, code_execution_result=None, executable_code=None, file_data=None, function_call=None, function_response=None, text='quem é zed no lol?')], role='user'),\n",
              " Content(parts=[Part(video_metadata=None, thought=None, inline_data=None, code_execution_result=None, executable_code=None, file_data=None, function_call=None, function_response=None, text='Zed é um campeão assassino do popular jogo online League of Legends (LoL), conhecido por sua agilidade, dano explosivo e maestria sobre as sombras. Aqui estão os principais aspectos sobre ele:\\n\\n*   **Função:** Assassino, geralmente jogado na rota do meio (Mid Lane).\\n*   **Estilo de Jogo:** Zed é um campeão de \"burst\" (dano explosivo), especializado em eliminar alvos prioritários, como atiradores e magos, rapidamente. Ele utiliza suas sombras para se movimentar, atacar e confundir seus oponentes.\\n*   **Habilidades:** Suas habilidades giram em torno da manipulação de sombras, permitindo que ele crie cópias de si mesmo para lançar ataques, trocar de posição e escapar de situações perigosas. Sua habilidade ultimate, \"Marca da Morte\", marca um inimigo, causando dano explosivo após um curto período de tempo, ideal para eliminar alvos vulneráveis.\\n*   **Fortalezas:**\\n    *   **Alta mobilidade:** Zed pode se mover rapidamente pelo mapa e escapar de situações complicadas graças às suas sombras.\\n    *   **Dano explosivo:** Capaz de eliminar alvos frágeis em questão de segundos.\\n    *   **Enganação:** Suas habilidades de sombra permitem que ele engane seus oponentes e realize jogadas imprevisíveis.\\n    *   **Forte contra carregadores:** Zed é um excelente counter de atiradores e magos, que geralmente são mais vulneráveis.\\n*   **Fraquezas:**\\n    *   **Frágil:** Possui pouca vida e resistência, tornando-o vulnerável a ataques diretos.\\n    *   **Dependente de habilidade:** Requer precisão e timing para acertar suas habilidades e combos.\\n    *   **Vulnerável a controle de grupo:** Efeitos como atordoamentos e silenciamentos podem interromper seus combos e torná-lo vulnerável.\\n\\nEm resumo, Zed é um campeão complexo e recompensador que, nas mãos de um jogador habilidoso, pode dominar a partida e eliminar as principais ameaças do time inimigo. Ele exige prática e conhecimento para ser dominado, mas oferece um grande potencial de \"outplay\" (superar o oponente em habilidade).\\n')], role='model'),\n",
              " UserContent(parts=[Part(video_metadata=None, thought=None, inline_data=None, code_execution_result=None, executable_code=None, file_data=None, function_call=None, function_response=None, text='quem é tutsz jogador da furia?')], role='user'),\n",
              " Content(parts=[Part(video_metadata=None, thought=None, inline_data=None, code_execution_result=None, executable_code=None, file_data=None, function_call=None, function_response=None, text='Tutsz é o nome pelo qual Bruno Góes, jogador profissional de Counter-Strike: Global Offensive (CS:GO), é conhecido. Ele atualmente joga pela FURIA Esports.\\n')], role='model'),\n",
              " UserContent(parts=[Part(video_metadata=None, thought=None, inline_data=None, code_execution_result=None, executable_code=None, file_data=None, function_call=None, function_response=None, text='quem é tutsz jogador da furia?')], role='user'),\n",
              " Content(parts=[Part(video_metadata=None, thought=None, inline_data=None, code_execution_result=None, executable_code=None, file_data=None, function_call=None, function_response=None, text='Tutsz é o nome profissional de Bruno Góes, um jogador brasileiro de Counter-Strike: Global Offensive (CS:GO). Atualmente, ele joga pela FURIA Esports.\\n')], role='model'),\n",
              " UserContent(parts=[Part(video_metadata=None, thought=None, inline_data=None, code_execution_result=None, executable_code=None, file_data=None, function_call=None, function_response=None, text='quem é tutsz jogador da furia?')], role='user'),\n",
              " Content(parts=[Part(video_metadata=None, thought=None, inline_data=None, code_execution_result=None, executable_code=None, file_data=None, function_call=None, function_response=None, text='Tutsz, cujo nome real é Bruno Góes, é um jogador profissional brasileiro de Counter-Strike: Global Offensive (CS:GO). Atualmente, ele joga pela equipe FURIA Esports.\\n')], role='model'),\n",
              " UserContent(parts=[Part(video_metadata=None, thought=None, inline_data=None, code_execution_result=None, executable_code=None, file_data=None, function_call=None, function_response=None, text='quem é tutsz jogador da furia?')], role='user'),\n",
              " Content(parts=[Part(video_metadata=None, thought=None, inline_data=None, code_execution_result=None, executable_code=None, file_data=None, function_call=None, function_response=None, text='Tutsz (Bruno Góes) é um jogador profissional brasileiro de Counter-Strike: Global Offensive (CS:GO) que atualmente joga pela FURIA Esports.\\n')], role='model'),\n",
              " UserContent(parts=[Part(video_metadata=None, thought=None, inline_data=None, code_execution_result=None, executable_code=None, file_data=None, function_call=None, function_response=None, text='quem é tutsz jogador da furia?')], role='user'),\n",
              " Content(parts=[Part(video_metadata=None, thought=None, inline_data=None, code_execution_result=None, executable_code=None, file_data=None, function_call=None, function_response=None, text='Tutsz, também conhecido como Bruno Góes, é um jogador profissional brasileiro de Counter-Strike: Global Offensive (CS:GO) que atualmente faz parte da equipe FURIA Esports.\\n')], role='model'),\n",
              " UserContent(parts=[Part(video_metadata=None, thought=None, inline_data=None, code_execution_result=None, executable_code=None, file_data=None, function_call=None, function_response=None, text='quem é tutsz jogador da furia?')], role='user'),\n",
              " Content(parts=[Part(video_metadata=None, thought=None, inline_data=None, code_execution_result=None, executable_code=None, file_data=None, function_call=None, function_response=None, text='Tutsz (nome real Bruno Góes) é um jogador profissional brasileiro de Counter-Strike: Global Offensive (CS:GO) que atua pela equipe FURIA Esports.\\n')], role='model'),\n",
              " UserContent(parts=[Part(video_metadata=None, thought=None, inline_data=None, code_execution_result=None, executable_code=None, file_data=None, function_call=None, function_response=None, text='quem é tutsz jogador da furia?')], role='user'),\n",
              " Content(parts=[Part(video_metadata=None, thought=None, inline_data=None, code_execution_result=None, executable_code=None, file_data=None, function_call=None, function_response=None, text='Tutsz, cujo nome verdadeiro é Bruno Góes, é um jogador profissional brasileiro de Counter-Strike: Global Offensive (CS:GO). Ele é conhecido por fazer parte da equipe FURIA Esports.\\n')], role='model'),\n",
              " UserContent(parts=[Part(video_metadata=None, thought=None, inline_data=None, code_execution_result=None, executable_code=None, file_data=None, function_call=None, function_response=None, text='quem é tutsz jogador de lol?')], role='user'),\n",
              " Content(parts=[Part(video_metadata=None, thought=None, inline_data=None, code_execution_result=None, executable_code=None, file_data=None, function_call=None, function_response=None, text='Não existe um jogador profissional de League of Legends (LoL) chamado \"Tutsz\". O Tutsz que se conhece é um jogador profissional de Counter-Strike: Global Offensive (CS:GO) da equipe FURIA Esports, cujo nome real é Bruno Góes. Portanto, a informação de que ele é jogador de LoL está incorreta.\\n')], role='model'),\n",
              " UserContent(parts=[Part(video_metadata=None, thought=None, inline_data=None, code_execution_result=None, executable_code=None, file_data=None, function_call=None, function_response=None, text='quem é tutsz jogador de lol?')], role='user'),\n",
              " Content(parts=[Part(video_metadata=None, thought=None, inline_data=None, code_execution_result=None, executable_code=None, file_data=None, function_call=None, function_response=None, text='Não existe um jogador profissional de League of Legends (LoL) conhecido como Tutsz. Tutsz (Bruno Góes) é um jogador profissional de Counter-Strike: Global Offensive (CS:GO) da equipe FURIA Esports. Você pode estar confundindo com outro jogador.\\n')], role='model'),\n",
              " UserContent(parts=[Part(video_metadata=None, thought=None, inline_data=None, code_execution_result=None, executable_code=None, file_data=None, function_call=None, function_response=None, text='quem é tutsz jogador de lol?')], role='user'),\n",
              " Content(parts=[Part(video_metadata=None, thought=None, inline_data=None, code_execution_result=None, executable_code=None, file_data=None, function_call=None, function_response=None, text='Não há informações sobre um jogador de League of Legends (LoL) conhecido como \"Tutsz\". É possível que você esteja confundindo com outro jogador ou outro jogo. O nome \"Tutsz\" é associado ao jogador de Counter-Strike: Global Offensive (CS:GO), Bruno Góes, da equipe FURIA Esports.\\n')], role='model'),\n",
              " UserContent(parts=[Part(video_metadata=None, thought=None, inline_data=None, code_execution_result=None, executable_code=None, file_data=None, function_call=None, function_response=None, text='quem é tutsz jogador de lol?')], role='user'),\n",
              " Content(parts=[Part(video_metadata=None, thought=None, inline_data=None, code_execution_result=None, executable_code=None, file_data=None, function_call=None, function_response=None, text='Não há registros de um jogador profissional de League of Legends (LoL) chamado Tutsz. O nome \"Tutsz\" está associado a Bruno Góes, um jogador profissional de Counter-Strike: Global Offensive (CS:GO) que joga pela FURIA Esports. Pode haver uma confusão com outro jogador ou game.\\n')], role='model'),\n",
              " UserContent(parts=[Part(video_metadata=None, thought=None, inline_data=None, code_execution_result=None, executable_code=None, file_data=None, function_call=None, function_response=None, text='quem é tutsz jogador de lol?')], role='user'),\n",
              " Content(parts=[Part(video_metadata=None, thought=None, inline_data=None, code_execution_result=None, executable_code=None, file_data=None, function_call=None, function_response=None, text='Não existe um jogador profissional de League of Legends (LoL) conhecido pelo nome \"Tutsz\". O jogador \"Tutsz\" (Bruno Góes) é um profissional de Counter-Strike: Global Offensive (CS:GO) que joga pela FURIA Esports. É possível que haja uma confusão de nomes ou jogos.\\n')], role='model'),\n",
              " UserContent(parts=[Part(video_metadata=None, thought=None, inline_data=None, code_execution_result=None, executable_code=None, file_data=None, function_call=None, function_response=None, text='quem é tutsz jogador de lol?')], role='user'),\n",
              " Content(parts=[Part(video_metadata=None, thought=None, inline_data=None, code_execution_result=None, executable_code=None, file_data=None, function_call=None, function_response=None, text='Não há um jogador profissional de League of Legends (LoL) chamado \"Tutsz\". O Tutsz que as pessoas conhecem (Bruno Góes) é um jogador profissional de Counter-Strike: Global Offensive (CS:GO) que joga pela FURIA Esports. É provável que você esteja confundindo nomes ou jogos.\\n')], role='model'),\n",
              " UserContent(parts=[Part(video_metadata=None, thought=None, inline_data=None, code_execution_result=None, executable_code=None, file_data=None, function_call=None, function_response=None, text='quem é tutsz jogador de lol?')], role='user'),\n",
              " Content(parts=[Part(video_metadata=None, thought=None, inline_data=None, code_execution_result=None, executable_code=None, file_data=None, function_call=None, function_response=None, text='Não existe nenhum jogador profissional de League of Legends (LoL) conhecido como \"Tutsz\". O \"Tutsz\" famoso é Bruno Góes, um jogador profissional de Counter-Strike: Global Offensive (CS:GO) que joga pela equipe FURIA Esports. É provável que você esteja se confundindo.\\n')], role='model'),\n",
              " UserContent(parts=[Part(video_metadata=None, thought=None, inline_data=None, code_execution_result=None, executable_code=None, file_data=None, function_call=None, function_response=None, text='quem é tutsz jogador de lol?')], role='user'),\n",
              " Content(parts=[Part(video_metadata=None, thought=None, inline_data=None, code_execution_result=None, executable_code=None, file_data=None, function_call=None, function_response=None, text='Não há um jogador profissional de League of Legends (LoL) chamado Tutsz. Tutsz, cujo nome verdadeiro é Bruno Góes, é um jogador profissional de Counter-Strike: Global Offensive (CS:GO) que joga pela equipe FURIA Esports. Talvez você esteja se confundindo com outro jogador.\\n')], role='model'),\n",
              " UserContent(parts=[Part(video_metadata=None, thought=None, inline_data=None, code_execution_result=None, executable_code=None, file_data=None, function_call=None, function_response=None, text='quem é tutsz jogador de lol?')], role='user'),\n",
              " Content(parts=[Part(video_metadata=None, thought=None, inline_data=None, code_execution_result=None, executable_code=None, file_data=None, function_call=None, function_response=None, text='Não há informações sobre um jogador profissional de League of Legends (LoL) chamado Tutsz. Tutsz (Bruno Góes) é um jogador profissional de Counter-Strike: Global Offensive (CS:GO) que joga pela equipe FURIA Esports. É possível que você esteja enganado sobre qual jogo ele joga.\\n')], role='model'),\n",
              " UserContent(parts=[Part(video_metadata=None, thought=None, inline_data=None, code_execution_result=None, executable_code=None, file_data=None, function_call=None, function_response=None, text='quem é tutsz jogador de lol?')], role='user'),\n",
              " Content(parts=[Part(video_metadata=None, thought=None, inline_data=None, code_execution_result=None, executable_code=None, file_data=None, function_call=None, function_response=None, text='Não existe um jogador profissional de League of Legends (LoL) chamado \"Tutsz\". O Tutsz conhecido é Bruno Góes, um jogador profissional brasileiro de Counter-Strike: Global Offensive (CS:GO) que atualmente joga pela FURIA Esports. Aparentemente, há uma confusão sobre o jogo que ele joga.\\n')], role='model'),\n",
              " UserContent(parts=[Part(video_metadata=None, thought=None, inline_data=None, code_execution_result=None, executable_code=None, file_data=None, function_call=None, function_response=None, text='quem é tutsz jogador de lol?')], role='user'),\n",
              " Content(parts=[Part(video_metadata=None, thought=None, inline_data=None, code_execution_result=None, executable_code=None, file_data=None, function_call=None, function_response=None, text='Não existe um jogador profissional de League of Legends (LoL) chamado \"Tutsz\". O \"Tutsz\" que as pessoas geralmente se referem é Bruno Góes, um jogador profissional brasileiro de Counter-Strike: Global Offensive (CS:GO) que joga pela equipe FURIA Esports. Portanto, a informação de que ele é um jogador de LoL está incorreta.\\n')], role='model'),\n",
              " UserContent(parts=[Part(video_metadata=None, thought=None, inline_data=None, code_execution_result=None, executable_code=None, file_data=None, function_call=None, function_response=None, text='quem é tutsz jogador de lol?')], role='user'),\n",
              " Content(parts=[Part(video_metadata=None, thought=None, inline_data=None, code_execution_result=None, executable_code=None, file_data=None, function_call=None, function_response=None, text='Não há registros de um jogador profissional de League of Legends (LoL) conhecido como \"Tutsz\". O nome \"Tutsz\" está associado a Bruno Góes, um jogador profissional brasileiro de Counter-Strike: Global Offensive (CS:GO), que atualmente joga pela equipe FURIA Esports. É possível que você esteja confundindo com outro jogador ou modalidade de e-sport.\\n')], role='model'),\n",
              " UserContent(parts=[Part(video_metadata=None, thought=None, inline_data=None, code_execution_result=None, executable_code=None, file_data=None, function_call=None, function_response=None, text='quem é tutsz jogador de lol?')], role='user'),\n",
              " Content(parts=[Part(video_metadata=None, thought=None, inline_data=None, code_execution_result=None, executable_code=None, file_data=None, function_call=None, function_response=None, text='Não há nenhum jogador profissional de League of Legends (LoL) conhecido pelo nome \"Tutsz\". O \"Tutsz\" que normalmente é mencionado é Bruno Góes, um jogador profissional brasileiro de Counter-Strike: Global Offensive (CS:GO) que atualmente joga pela equipe FURIA Esports. Aparentemente, houve uma confusão de jogos.\\n')], role='model'),\n",
              " UserContent(parts=[Part(video_metadata=None, thought=None, inline_data=None, code_execution_result=None, executable_code=None, file_data=None, function_call=None, function_response=None, text='quem é tutsz jogador de lol?')], role='user'),\n",
              " Content(parts=[Part(video_metadata=None, thought=None, inline_data=None, code_execution_result=None, executable_code=None, file_data=None, function_call=None, function_response=None, text='Não há informações sobre um jogador profissional de League of Legends (LoL) conhecido como \"Tutsz\". O nome \"Tutsz\" é associado a Bruno Góes, um jogador profissional de Counter-Strike: Global Offensive (CS:GO) que joga pela equipe FURIA Esports. É possível que você esteja confundindo com outro jogador ou jogo.\\n')], role='model'),\n",
              " UserContent(parts=[Part(video_metadata=None, thought=None, inline_data=None, code_execution_result=None, executable_code=None, file_data=None, function_call=None, function_response=None, text='quem é tutsz jogador de lol?')], role='user'),\n",
              " Content(parts=[Part(video_metadata=None, thought=None, inline_data=None, code_execution_result=None, executable_code=None, file_data=None, function_call=None, function_response=None, text='Não existe um jogador profissional de League of Legends (LoL) conhecido como \"Tutsz\". O nome \"Tutsz\" (Bruno Góes) é, na verdade, um jogador profissional de Counter-Strike: Global Offensive (CS:GO) que joga pela equipe FURIA Esports. É provável que você esteja confundindo as informações.\\n')], role='model'),\n",
              " UserContent(parts=[Part(video_metadata=None, thought=None, inline_data=None, code_execution_result=None, executable_code=None, file_data=None, function_call=None, function_response=None, text='quem é tutsz jogador de lol?')], role='user'),\n",
              " Content(parts=[Part(video_metadata=None, thought=None, inline_data=None, code_execution_result=None, executable_code=None, file_data=None, function_call=None, function_response=None, text='Não existe um jogador profissional de League of Legends (LoL) conhecido como \"Tutsz\". Tutsz, cujo nome real é Bruno Góes, é um jogador profissional brasileiro de Counter-Strike: Global Offensive (CS:GO) que joga pela FURIA Esports. Você deve estar confundindo as modalidades ou os jogadores.\\n')], role='model'),\n",
              " UserContent(parts=[Part(video_metadata=None, thought=None, inline_data=None, code_execution_result=None, executable_code=None, file_data=None, function_call=None, function_response=None, text='quem é tutsz jogador de lol?')], role='user'),\n",
              " Content(parts=[Part(video_metadata=None, thought=None, inline_data=None, code_execution_result=None, executable_code=None, file_data=None, function_call=None, function_response=None, text='Não existe um jogador profissional de League of Legends (LoL) chamado \"Tutsz\". O \"Tutsz\" que se conhece é Bruno Góes, um jogador profissional brasileiro de Counter-Strike: Global Offensive (CS:GO), que atua pela equipe FURIA Esports. É bem provável que você esteja se confundindo sobre qual jogo ele joga.\\n')], role='model'),\n",
              " UserContent(parts=[Part(video_metadata=None, thought=None, inline_data=None, code_execution_result=None, executable_code=None, file_data=None, function_call=None, function_response=None, text='quem é tutsz jogador de lol?')], role='user'),\n",
              " Content(parts=[Part(video_metadata=None, thought=None, inline_data=None, code_execution_result=None, executable_code=None, file_data=None, function_call=None, function_response=None, text='Não há registro de um jogador profissional de League of Legends (LoL) chamado \"Tutsz\". O nome \"Tutsz\" é associado a Bruno Góes, um jogador profissional brasileiro de Counter-Strike: Global Offensive (CS:GO) que joga pela equipe FURIA Esports. Portanto, a informação que você tem está incorreta.\\n')], role='model'),\n",
              " UserContent(parts=[Part(video_metadata=None, thought=None, inline_data=None, code_execution_result=None, executable_code=None, file_data=None, function_call=None, function_response=None, text='quem é zed no lol?')], role='user'),\n",
              " Content(parts=[Part(video_metadata=None, thought=None, inline_data=None, code_execution_result=None, executable_code=None, file_data=None, function_call=None, function_response=None, text='Zed é um campeão assassino de League of Legends (LoL) especializado em dano explosivo e mobilidade. Ele usa sombras para se movimentar, atacar e enganar inimigos, eliminando rapidamente alvos prioritários.\\n')], role='model'),\n",
              " UserContent(parts=[Part(video_metadata=None, thought=None, inline_data=None, code_execution_result=None, executable_code=None, file_data=None, function_call=None, function_response=None, text='ele joga aonde')], role='user'),\n",
              " Content(parts=[Part(video_metadata=None, thought=None, inline_data=None, code_execution_result=None, executable_code=None, file_data=None, function_call=None, function_response=None, text='Para esclarecer, a qual \"ele\" você se refere? Se você está perguntando sobre o Tutsz (Bruno Góes) mencionado anteriormente, ele joga Counter-Strike: Global Offensive (CS:GO) pela equipe FURIA Esports. Se estiver falando do Zed, ele é um personagem jogável dentro do jogo League of Legends (LoL). Por favor, especifique para que eu possa fornecer a resposta correta.\\n')], role='model'),\n",
              " UserContent(parts=[Part(video_metadata=None, thought=None, inline_data=None, code_execution_result=None, executable_code=None, file_data=None, function_call=None, function_response=None, text='sobre o zed')], role='user'),\n",
              " Content(parts=[Part(video_metadata=None, thought=None, inline_data=None, code_execution_result=None, executable_code=None, file_data=None, function_call=None, function_response=None, text='Zed é jogado em League of Legends (LoL). A posição principal de Zed é na rota do meio (Mid Lane).\\n')], role='model'),\n",
              " UserContent(parts=[Part(video_metadata=None, thought=None, inline_data=None, code_execution_result=None, executable_code=None, file_data=None, function_call=None, function_response=None, text='quem é zed no lol?')], role='user'),\n",
              " Content(parts=[Part(video_metadata=None, thought=None, inline_data=None, code_execution_result=None, executable_code=None, file_data=None, function_call=None, function_response=None, text='Zed é um campeão assassino do League of Legends (LoL), mestre das sombras. Ele é conhecido por seu alto dano explosivo, mobilidade e capacidade de eliminar alvos prioritários rapidamente, utilizando suas habilidades com sombras para enganar e surpreender seus oponentes. Ele geralmente joga na rota do meio (Mid Lane).\\n')], role='model'),\n",
              " UserContent(parts=[Part(video_metadata=None, thought=None, inline_data=None, code_execution_result=None, executable_code=None, file_data=None, function_call=None, function_response=None, text='ele joga em que posição?')], role='user'),\n",
              " Content(parts=[Part(video_metadata=None, thought=None, inline_data=None, code_execution_result=None, executable_code=None, file_data=None, function_call=None, function_response=None, text='Zed geralmente joga na rota do meio (Mid Lane).\\n')], role='model'),\n",
              " UserContent(parts=[Part(video_metadata=None, thought=None, inline_data=None, code_execution_result=None, executable_code=None, file_data=None, function_call=None, function_response=None, text='ele é um divo né?')], role='user'),\n",
              " Content(parts=[Part(video_metadata=None, thought=None, inline_data=None, code_execution_result=None, executable_code=None, file_data=None, function_call=None, function_response=None, text='A popularidade de Zed entre os jogadores de League of Legends é inegável. Muitos consideram ele um campeão estiloso e emocionante de jogar, com potencial para realizar jogadas incríveis. Se ele é um \"divo\" ou não, é uma questão de opinião pessoal, mas certamente ele é um personagem marcante no jogo.\\n')], role='model'),\n",
              " UserContent(parts=[Part(video_metadata=None, thought=None, inline_data=None, code_execution_result=None, executable_code=None, file_data=None, function_call=None, function_response=None, text='o que é sanrio?')], role='user'),\n",
              " Content(parts=[Part(video_metadata=None, thought=None, inline_data=None, code_execution_result=None, executable_code=None, file_data=None, function_call=None, function_response=None, text='Sanrio é uma empresa japonesa conhecida por criar personagens fofos e adoráveis, como a Hello Kitty, My Melody, e muitos outros. Ela produz uma vasta gama de produtos licenciados, desde artigos de papelaria e roupas até brinquedos e acessórios para o lar.\\n')], role='model'),\n",
              " UserContent(parts=[Part(video_metadata=None, thought=None, inline_data=None, code_execution_result=None, executable_code=None, file_data=None, function_call=None, function_response=None, text='quem é my melody?')], role='user'),\n",
              " Content(parts=[Part(video_metadata=None, thought=None, inline_data=None, code_execution_result=None, executable_code=None, file_data=None, function_call=None, function_response=None, text='My Melody é uma personagem da Sanrio. Ela é uma coelhinha branca que usa um capuz vermelho ou rosa, e é conhecida por ser gentil e honesta. É uma das personagens mais populares da Sanrio, junto com a Hello Kitty.\\n')], role='model'),\n",
              " UserContent(parts=[Part(video_metadata=None, thought=None, inline_data=None, code_execution_result=None, executable_code=None, file_data=None, function_call=None, function_response=None, text='ela é uma diva né?')], role='user'),\n",
              " Content(parts=[Part(video_metadata=None, thought=None, inline_data=None, code_execution_result=None, executable_code=None, file_data=None, function_call=None, function_response=None, text='Se My Melody é uma \"diva\" ou não é uma questão de opinião, mas ela definitivamente é uma personagem icônica e adorada por muitos! Sua popularidade e imagem fofa a tornam uma figura reconhecível e amada mundialmente.\\n')], role='model')]"
            ]
          },
          "metadata": {},
          "execution_count": 25
        }
      ]
    },
    {
      "cell_type": "code",
      "source": [],
      "metadata": {
        "id": "clQzkBWGWaFm"
      },
      "execution_count": null,
      "outputs": []
    }
  ]
}